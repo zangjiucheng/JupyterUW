{
 "cells": [
  {
   "cell_type": "markdown",
   "id": "01db1a57-9405-47ec-87c7-0c86191375c6",
   "metadata": {},
   "source": [
    "## Installation for pytorch (new Version: 2.1.2 currently)\n",
    "%pip install -U --user torch torchvision torchaudio \n",
    "%pip install -U numpy --user\n",
    "%pip install -U panda --user\n",
    "import sys\n",
    "sys.path.append(\"/home/j7zang/.local/lib/python3.10/site-packages\")"
   ]
  },
  {
   "cell_type": "code",
   "execution_count": 89,
   "id": "d7d4a854-7ef6-449d-961c-5f370bb81ed0",
   "metadata": {},
   "outputs": [
    {
     "name": "stdout",
     "output_type": "stream",
     "text": [
      "/bin/bash: line 1: nvidia-smi: command not found\n"
     ]
    }
   ],
   "source": [
    "!nvidia-smi"
   ]
  },
  {
   "cell_type": "markdown",
   "id": "c22021ff-9f4f-4f9c-a20d-6d21476cab68",
   "metadata": {},
   "source": [
    "### Start Codding Here: "
   ]
  },
  {
   "cell_type": "code",
   "execution_count": 90,
   "id": "627905a6-4cc7-415f-b6ff-0d3930f0ccb5",
   "metadata": {},
   "outputs": [],
   "source": [
    "import torch   \n",
    "import pandas as pd\n",
    "import numpy as np\n",
    "import matplotlib.pyplot as plt"
   ]
  },
  {
   "cell_type": "code",
   "execution_count": 91,
   "id": "4b51717a-d6ce-4a01-8be0-2ca477b91a71",
   "metadata": {},
   "outputs": [
    {
     "name": "stdout",
     "output_type": "stream",
     "text": [
      "1.12.1\n"
     ]
    }
   ],
   "source": [
    "print(torch.__version__)"
   ]
  },
  {
   "cell_type": "code",
   "execution_count": 92,
   "id": "b04800d1-97aa-4f43-94b7-34e659481d54",
   "metadata": {},
   "outputs": [
    {
     "data": {
      "text/plain": [
       "torch.Size([1, 3, 3])"
      ]
     },
     "execution_count": 92,
     "metadata": {},
     "output_type": "execute_result"
    }
   ],
   "source": [
    "scalar = torch.tensor(7)\n",
    "scalar.item()\n",
    "vector = torch.tensor([2,2])\n",
    "vector.ndim\n",
    "vector.shape\n",
    "MATRIX = torch.tensor([[[1,2,3],[4,5,6],[7,8,9]]])\n",
    "MATRIX.ndim\n",
    "MATRIX.shape"
   ]
  },
  {
   "cell_type": "code",
   "execution_count": 93,
   "id": "40cea7b5-505b-477d-9c87-92e66e09cf05",
   "metadata": {},
   "outputs": [
    {
     "data": {
      "text/plain": [
       "torch.Size([48, 48, 1])"
      ]
     },
     "execution_count": 93,
     "metadata": {},
     "output_type": "execute_result"
    }
   ],
   "source": [
    "randon_tensor = torch.rand(size=(48,48,1),device=\"cpu\")\n",
    "randon_tensor.shape"
   ]
  },
  {
   "cell_type": "code",
   "execution_count": 94,
   "id": "9310a712-f0a9-4e29-927b-be7b6fe7e1f6",
   "metadata": {},
   "outputs": [
    {
     "data": {
      "text/plain": [
       "torch.float32"
      ]
     },
     "execution_count": 94,
     "metadata": {},
     "output_type": "execute_result"
    }
   ],
   "source": [
    "randon_tensor.dtype"
   ]
  },
  {
   "cell_type": "code",
   "execution_count": 95,
   "id": "e3157dcd-6ab0-4107-92ef-d62015381231",
   "metadata": {},
   "outputs": [
    {
     "data": {
      "text/plain": [
       "torch.float16"
      ]
     },
     "execution_count": 95,
     "metadata": {},
     "output_type": "execute_result"
    }
   ],
   "source": [
    "ones_tensor = torch.ones(size=(48,48,1),dtype=torch.half)\n",
    "ones_tensor.dtype"
   ]
  },
  {
   "cell_type": "code",
   "execution_count": 96,
   "id": "0625a2b8-a432-4ad3-b167-a1f78316b7d3",
   "metadata": {},
   "outputs": [
    {
     "data": {
      "text/plain": [
       "(torch.Size([48, 48, 1]), device(type='cpu'), torch.float32)"
      ]
     },
     "execution_count": 96,
     "metadata": {},
     "output_type": "execute_result"
    }
   ],
   "source": [
    "zeros_tensor = torch.zeros_like(input=randon_tensor)\n",
    "zeros_tensor.shape, zeros_tensor.device, zeros_tensor.dtype"
   ]
  },
  {
   "cell_type": "code",
   "execution_count": 97,
   "id": "363fbbcf-7def-49c6-9abb-3ddacaba15dd",
   "metadata": {},
   "outputs": [
    {
     "data": {
      "text/plain": [
       "(tensor([ 1, 11, 21, 31, 41, 51, 61, 71, 81, 91]), torch.int64)"
      ]
     },
     "execution_count": 97,
     "metadata": {},
     "output_type": "execute_result"
    }
   ],
   "source": [
    "list_tensor = torch.arange(1,101,10)\n",
    "list_tensor, list_tensor.dtype"
   ]
  },
  {
   "cell_type": "code",
   "execution_count": 98,
   "id": "5da7ae29-d51a-4dac-a84e-72eddafe6d94",
   "metadata": {},
   "outputs": [
    {
     "data": {
      "text/plain": [
       "tensor([[0.3000, 0.2283],\n",
       "        [0.2283, 0.2697]])"
      ]
     },
     "execution_count": 98,
     "metadata": {},
     "output_type": "execute_result"
    }
   ],
   "source": [
    "randon_tensorA = torch.rand(2,3)\n",
    "randon_tensorB = randon_tensorA\n",
    "torch.mm(randon_tensorA, randon_tensorB.T)"
   ]
  },
  {
   "cell_type": "code",
   "execution_count": 99,
   "id": "d096cd8b-c56e-41ca-9898-b6cf6ff05845",
   "metadata": {},
   "outputs": [
    {
     "data": {
      "text/plain": [
       "(tensor([[0.1919, 0.1603, 0.4873],\n",
       "         [0.0423, 0.4091, 0.3172]]),\n",
       " tensor(0.4873),\n",
       " tensor(0.0423))"
      ]
     },
     "execution_count": 99,
     "metadata": {},
     "output_type": "execute_result"
    }
   ],
   "source": [
    "randon_tensorA,randon_tensorA.max(),randon_tensorA.min()"
   ]
  },
  {
   "cell_type": "code",
   "execution_count": 100,
   "id": "af41b618-4456-4b03-a533-3256d9f93ae9",
   "metadata": {},
   "outputs": [
    {
     "data": {
      "text/plain": [
       "(tensor(46.), tensor(41.))"
      ]
     },
     "execution_count": 100,
     "metadata": {},
     "output_type": "execute_result"
    }
   ],
   "source": [
    "list_tensor.type(torch.float32).mean(), list_tensor.type(torch.float32).median()"
   ]
  },
  {
   "cell_type": "code",
   "execution_count": 101,
   "id": "96213a3d-2db1-4d55-8ad0-f8565d1a0548",
   "metadata": {},
   "outputs": [
    {
     "data": {
      "text/plain": [
       "torch.Size([345, 345, 3])"
      ]
     },
     "execution_count": 101,
     "metadata": {},
     "output_type": "execute_result"
    }
   ],
   "source": [
    "image_tensor = torch.rand(345,345,3)\n",
    "image_tensor.shape"
   ]
  },
  {
   "cell_type": "code",
   "execution_count": 102,
   "id": "0bd4fa0b-3de1-49d3-bc2e-2d648e84c121",
   "metadata": {},
   "outputs": [
    {
     "data": {
      "text/plain": [
       "torch.Size([115, 115, 27])"
      ]
     },
     "execution_count": 102,
     "metadata": {},
     "output_type": "execute_result"
    }
   ],
   "source": [
    "image_tensor.reshape(115,115,27).shape"
   ]
  },
  {
   "cell_type": "code",
   "execution_count": 103,
   "id": "a09ff409-b3e0-4517-b3c8-5c599168f573",
   "metadata": {},
   "outputs": [
    {
     "data": {
      "text/plain": [
       "tensor([[[9.0000, 0.9064, 0.7904],\n",
       "         [0.5280, 0.3381, 0.6275],\n",
       "         [0.1545, 0.2867, 0.3996],\n",
       "         ...,\n",
       "         [0.2478, 0.2675, 0.9979],\n",
       "         [0.5962, 0.7153, 0.5672],\n",
       "         [0.1629, 0.8608, 0.4223]],\n",
       "\n",
       "        [[0.3705, 0.9075, 0.2453],\n",
       "         [0.6015, 0.0747, 0.7562],\n",
       "         [0.6986, 0.0889, 0.7791],\n",
       "         ...,\n",
       "         [0.8020, 0.7075, 0.0482],\n",
       "         [0.4728, 0.2848, 0.4133],\n",
       "         [0.7784, 0.4462, 0.1527]],\n",
       "\n",
       "        [[0.8517, 0.0430, 0.3283],\n",
       "         [0.6927, 0.9419, 0.9853],\n",
       "         [0.3825, 0.6668, 0.0609],\n",
       "         ...,\n",
       "         [0.0870, 0.5017, 0.9243],\n",
       "         [0.1908, 0.5979, 0.1554],\n",
       "         [0.1125, 0.3162, 0.1653]],\n",
       "\n",
       "        ...,\n",
       "\n",
       "        [[0.1352, 0.7747, 0.2024],\n",
       "         [0.9197, 0.0984, 0.2042],\n",
       "         [0.7761, 0.9115, 0.2869],\n",
       "         ...,\n",
       "         [0.8225, 0.9508, 0.9409],\n",
       "         [0.6034, 0.8677, 0.4384],\n",
       "         [0.2543, 0.5465, 0.9475]],\n",
       "\n",
       "        [[0.5892, 0.5733, 0.8606],\n",
       "         [0.0306, 0.2301, 0.4313],\n",
       "         [0.6216, 0.1227, 0.6999],\n",
       "         ...,\n",
       "         [0.0348, 0.8204, 0.5021],\n",
       "         [0.1063, 0.6874, 0.2600],\n",
       "         [0.3399, 0.1653, 0.7809]],\n",
       "\n",
       "        [[0.5667, 0.9937, 0.8824],\n",
       "         [0.0709, 0.0657, 0.0337],\n",
       "         [0.0496, 0.0928, 0.0699],\n",
       "         ...,\n",
       "         [0.0893, 0.4143, 0.5270],\n",
       "         [0.2728, 0.2818, 0.4421],\n",
       "         [0.2659, 0.9138, 0.6399]]])"
      ]
     },
     "execution_count": 103,
     "metadata": {},
     "output_type": "execute_result"
    }
   ],
   "source": [
    "different_view = image_tensor.view(115,115,27)\n",
    "different_view[0,0,0] = 9 # just a pointer will shange original matrix same\n",
    "image_tensor"
   ]
  },
  {
   "cell_type": "code",
   "execution_count": 104,
   "id": "aa663cd8-ca89-42b4-9160-823ec26ce57b",
   "metadata": {},
   "outputs": [
    {
     "data": {
      "text/plain": [
       "torch.Size([2, 1, 2, 2])"
      ]
     },
     "execution_count": 104,
     "metadata": {},
     "output_type": "execute_result"
    }
   ],
   "source": [
    "test_tensor = torch.zeros(1,2,1,2,2)\n",
    "torch.squeeze(test_tensor,0).shape"
   ]
  },
  {
   "cell_type": "code",
   "execution_count": 105,
   "id": "d3085c5e-a6f2-42b9-85ca-1b94524cea9f",
   "metadata": {},
   "outputs": [
    {
     "data": {
      "text/plain": [
       "torch.Size([1, 2, 1, 2, 2, 1])"
      ]
     },
     "execution_count": 105,
     "metadata": {},
     "output_type": "execute_result"
    }
   ],
   "source": [
    "torch.unsqueeze(test_tensor,5).shape"
   ]
  },
  {
   "cell_type": "code",
   "execution_count": 106,
   "id": "18484e29-84ec-468f-9883-1b234c97326c",
   "metadata": {},
   "outputs": [
    {
     "data": {
      "text/plain": [
       "(torch.Size([3, 1, 2, 1, 2, 2]), torch.Size([1, 3, 2, 1, 2, 2]))"
      ]
     },
     "execution_count": 106,
     "metadata": {},
     "output_type": "execute_result"
    }
   ],
   "source": [
    "torch.stack([test_tensor,test_tensor,test_tensor],dim=0).shape, torch.stack([test_tensor,test_tensor,test_tensor],dim=1).shape"
   ]
  },
  {
   "cell_type": "code",
   "execution_count": 107,
   "id": "d5e120e6-8be0-4802-96ee-fc7d8e1107c2",
   "metadata": {},
   "outputs": [
    {
     "data": {
      "text/plain": [
       "torch.Size([1, 2, 1, 2, 2])"
      ]
     },
     "execution_count": 107,
     "metadata": {},
     "output_type": "execute_result"
    }
   ],
   "source": [
    "test_tensor.shape"
   ]
  },
  {
   "cell_type": "code",
   "execution_count": 108,
   "id": "87b8ea9e-122f-4f9d-9427-e5363f4d07e9",
   "metadata": {},
   "outputs": [
    {
     "data": {
      "text/plain": [
       "torch.Size([3, 2, 1, 2, 2])"
      ]
     },
     "execution_count": 108,
     "metadata": {},
     "output_type": "execute_result"
    }
   ],
   "source": [
    "torch.vstack([test_tensor,test_tensor,test_tensor]).shape"
   ]
  },
  {
   "cell_type": "code",
   "execution_count": 109,
   "id": "6224064e-2b56-455e-b0d6-82860de5aca5",
   "metadata": {},
   "outputs": [
    {
     "data": {
      "text/plain": [
       "torch.Size([1, 6, 1, 2, 2])"
      ]
     },
     "execution_count": 109,
     "metadata": {},
     "output_type": "execute_result"
    }
   ],
   "source": [
    "torch.hstack([test_tensor,test_tensor,test_tensor]).shape"
   ]
  },
  {
   "cell_type": "code",
   "execution_count": 110,
   "id": "45ffbd3f-a528-425b-85c9-d56d53efec29",
   "metadata": {},
   "outputs": [
    {
     "data": {
      "text/plain": [
       "tensor([[[9.0000, 0.5280, 0.1545,  ..., 0.2478, 0.5962, 0.1629],\n",
       "         [0.3705, 0.6015, 0.6986,  ..., 0.8020, 0.4728, 0.7784],\n",
       "         [0.8517, 0.6927, 0.3825,  ..., 0.0870, 0.1908, 0.1125],\n",
       "         ...,\n",
       "         [0.1352, 0.9197, 0.7761,  ..., 0.8225, 0.6034, 0.2543],\n",
       "         [0.5892, 0.0306, 0.6216,  ..., 0.0348, 0.1063, 0.3399],\n",
       "         [0.5667, 0.0709, 0.0496,  ..., 0.0893, 0.2728, 0.2659]],\n",
       "\n",
       "        [[0.9064, 0.3381, 0.2867,  ..., 0.2675, 0.7153, 0.8608],\n",
       "         [0.9075, 0.0747, 0.0889,  ..., 0.7075, 0.2848, 0.4462],\n",
       "         [0.0430, 0.9419, 0.6668,  ..., 0.5017, 0.5979, 0.3162],\n",
       "         ...,\n",
       "         [0.7747, 0.0984, 0.9115,  ..., 0.9508, 0.8677, 0.5465],\n",
       "         [0.5733, 0.2301, 0.1227,  ..., 0.8204, 0.6874, 0.1653],\n",
       "         [0.9937, 0.0657, 0.0928,  ..., 0.4143, 0.2818, 0.9138]],\n",
       "\n",
       "        [[0.7904, 0.6275, 0.3996,  ..., 0.9979, 0.5672, 0.4223],\n",
       "         [0.2453, 0.7562, 0.7791,  ..., 0.0482, 0.4133, 0.1527],\n",
       "         [0.3283, 0.9853, 0.0609,  ..., 0.9243, 0.1554, 0.1653],\n",
       "         ...,\n",
       "         [0.2024, 0.2042, 0.2869,  ..., 0.9409, 0.4384, 0.9475],\n",
       "         [0.8606, 0.4313, 0.6999,  ..., 0.5021, 0.2600, 0.7809],\n",
       "         [0.8824, 0.0337, 0.0699,  ..., 0.5270, 0.4421, 0.6399]]])"
      ]
     },
     "execution_count": 110,
     "metadata": {},
     "output_type": "execute_result"
    }
   ],
   "source": [
    "torch.permute(image_tensor,(2,0,1))"
   ]
  },
  {
   "cell_type": "code",
   "execution_count": 111,
   "id": "100ebda7-125a-45a9-bdb3-86ff349f14ea",
   "metadata": {},
   "outputs": [
    {
     "data": {
      "text/plain": [
       "tensor([[[1, 2, 3],\n",
       "         [4, 5, 6],\n",
       "         [7, 8, 9]]])"
      ]
     },
     "execution_count": 111,
     "metadata": {},
     "output_type": "execute_result"
    }
   ],
   "source": [
    "x = torch.arange(1,10).reshape(1,3,3)\n",
    "x"
   ]
  },
  {
   "cell_type": "code",
   "execution_count": 112,
   "id": "000bf1dc-c2df-40e6-b2d6-5969abf51d78",
   "metadata": {},
   "outputs": [
    {
     "data": {
      "text/plain": [
       "tensor([[1, 2, 3],\n",
       "        [4, 5, 6],\n",
       "        [7, 8, 9]])"
      ]
     },
     "execution_count": 112,
     "metadata": {},
     "output_type": "execute_result"
    }
   ],
   "source": [
    "x[0]"
   ]
  },
  {
   "cell_type": "code",
   "execution_count": 113,
   "id": "0807d43b-9ebd-4f22-aa96-e4587b2868e2",
   "metadata": {},
   "outputs": [
    {
     "data": {
      "text/plain": [
       "tensor([1, 2, 3])"
      ]
     },
     "execution_count": 113,
     "metadata": {},
     "output_type": "execute_result"
    }
   ],
   "source": [
    "x[0,0]"
   ]
  },
  {
   "cell_type": "code",
   "execution_count": 114,
   "id": "6b72870f-7b64-4394-85bc-99a334767d24",
   "metadata": {},
   "outputs": [
    {
     "data": {
      "text/plain": [
       "tensor([[7, 8, 9]])"
      ]
     },
     "execution_count": 114,
     "metadata": {},
     "output_type": "execute_result"
    }
   ],
   "source": [
    "x[:,2,:]"
   ]
  },
  {
   "cell_type": "code",
   "execution_count": 115,
   "id": "8a5bdea2-58fc-4b5b-bd20-6c69b6391a05",
   "metadata": {},
   "outputs": [
    {
     "data": {
      "text/plain": [
       "tensor([[2, 5, 8]])"
      ]
     },
     "execution_count": 115,
     "metadata": {},
     "output_type": "execute_result"
    }
   ],
   "source": [
    "x[:,:,1]"
   ]
  },
  {
   "cell_type": "code",
   "execution_count": 116,
   "id": "b242f2f5-58d1-4280-a359-1641c6f95d24",
   "metadata": {},
   "outputs": [],
   "source": [
    "import numpy as np"
   ]
  },
  {
   "cell_type": "code",
   "execution_count": 117,
   "id": "498cc28f-5914-4338-855d-74eb434bff50",
   "metadata": {},
   "outputs": [
    {
     "data": {
      "text/plain": [
       "array([0, 1, 2, 3, 4, 5, 6, 7, 8, 9])"
      ]
     },
     "execution_count": 117,
     "metadata": {},
     "output_type": "execute_result"
    }
   ],
   "source": [
    "np_example = np.arange(0,10)\n",
    "np_example"
   ]
  },
  {
   "cell_type": "code",
   "execution_count": 118,
   "id": "2328e22d-99a0-429e-80fd-8b1e9071d325",
   "metadata": {},
   "outputs": [
    {
     "data": {
      "text/plain": [
       "tensor([0, 1, 2, 3, 4, 5, 6, 7, 8, 9])"
      ]
     },
     "execution_count": 118,
     "metadata": {},
     "output_type": "execute_result"
    }
   ],
   "source": [
    "trans_torch = torch.from_numpy(np_example)\n",
    "trans_torch"
   ]
  },
  {
   "cell_type": "code",
   "execution_count": 119,
   "id": "531c50e9-3780-4b93-81f8-0b767d142774",
   "metadata": {},
   "outputs": [
    {
     "data": {
      "text/plain": [
       "array([0, 1, 2, 3, 4, 5, 6, 7, 8, 9])"
      ]
     },
     "execution_count": 119,
     "metadata": {},
     "output_type": "execute_result"
    }
   ],
   "source": [
    "trans_torch.numpy()"
   ]
  },
  {
   "cell_type": "code",
   "execution_count": 120,
   "id": "32497daa-a528-4168-9c1e-99e3559ee9df",
   "metadata": {},
   "outputs": [
    {
     "name": "stdout",
     "output_type": "stream",
     "text": [
      "tensor([[False, False, False, False],\n",
      "        [False, False, False, False],\n",
      "        [False, False, False, False]])\n"
     ]
    }
   ],
   "source": [
    "random_tensor_A = torch.rand(3,4)\n",
    "random_tensor_B = torch.rand(3,4)\n",
    "\n",
    "print(random_tensor_A == random_tensor_B)"
   ]
  },
  {
   "cell_type": "code",
   "execution_count": 121,
   "id": "f215b466-3968-4196-aebe-1acafe493099",
   "metadata": {},
   "outputs": [
    {
     "name": "stdout",
     "output_type": "stream",
     "text": [
      "tensor([[0.8823, 0.9150, 0.3829, 0.9593],\n",
      "        [0.3904, 0.6009, 0.2566, 0.7936],\n",
      "        [0.9408, 0.1332, 0.9346, 0.5936]])\n",
      "tensor([[0.8823, 0.9150, 0.3829, 0.9593],\n",
      "        [0.3904, 0.6009, 0.2566, 0.7936],\n",
      "        [0.9408, 0.1332, 0.9346, 0.5936]])\n",
      "tensor([[True, True, True, True],\n",
      "        [True, True, True, True],\n",
      "        [True, True, True, True]])\n"
     ]
    }
   ],
   "source": [
    "RANDOM_SEED = 42\n",
    "\n",
    "torch.manual_seed(RANDOM_SEED)\n",
    "random_tensor_C = torch.rand(3,4)\n",
    "\n",
    "torch.manual_seed(RANDOM_SEED)\n",
    "random_tensor_D = torch.rand(3,4)\n",
    "\n",
    "print(random_tensor_C)\n",
    "print(random_tensor_D)\n",
    "print(random_tensor_C == random_tensor_D)"
   ]
  },
  {
   "cell_type": "code",
   "execution_count": 122,
   "id": "6f505773-3ceb-44cf-8b00-44e988ebb686",
   "metadata": {},
   "outputs": [
    {
     "data": {
      "text/plain": [
       "False"
      ]
     },
     "execution_count": 122,
     "metadata": {},
     "output_type": "execute_result"
    }
   ],
   "source": [
    "torch.cuda.is_available()"
   ]
  },
  {
   "cell_type": "code",
   "execution_count": 130,
   "id": "66a5c803-3bf3-49b4-9e58-2d52eb9c622a",
   "metadata": {},
   "outputs": [
    {
     "data": {
      "text/plain": [
       "'cpu'"
      ]
     },
     "execution_count": 130,
     "metadata": {},
     "output_type": "execute_result"
    }
   ],
   "source": [
    "torch.cuda.device_count()\n",
    "device = \"cuda\" if torch.cuda.is_available() else \"cpu\"\n",
    "device"
   ]
  },
  {
   "cell_type": "code",
   "execution_count": 143,
   "id": "1cdd0ba6-bee4-481a-a605-da1c3d2568f6",
   "metadata": {},
   "outputs": [
    {
     "data": {
      "text/plain": [
       "(tensor([1, 2, 3]), device(type='cpu'))"
      ]
     },
     "execution_count": 143,
     "metadata": {},
     "output_type": "execute_result"
    }
   ],
   "source": [
    "tensor = torch.tensor([1,2,3])\n",
    "tensor_on_gpu = tensor.to(device)\n",
    "tensor_on_gpu, tensor_on_gpu.device"
   ]
  },
  {
   "cell_type": "code",
   "execution_count": 141,
   "id": "ed129e28-280f-4574-8e3e-6998259cc714",
   "metadata": {},
   "outputs": [
    {
     "data": {
      "text/plain": [
       "array([1, 2, 3])"
      ]
     },
     "execution_count": 141,
     "metadata": {},
     "output_type": "execute_result"
    }
   ],
   "source": [
    "#If tensor is on GPU, can't transform it to NumpPy\n",
    "#tensor_on_gpu.numpy()\n",
    "tensor_back_on_cpu = tensor_on_gpu.cpu().numpy()\n",
    "tensor_back_on_cpu"
   ]
  }
 ],
 "metadata": {
  "kernelspec": {
   "display_name": "Python 3",
   "language": "python",
   "name": "python3"
  },
  "language_info": {
   "codemirror_mode": {
    "name": "ipython",
    "version": 3
   },
   "file_extension": ".py",
   "mimetype": "text/x-python",
   "name": "python",
   "nbconvert_exporter": "python",
   "pygments_lexer": "ipython3",
   "version": "3.10.4"
  }
 },
 "nbformat": 4,
 "nbformat_minor": 5
}
