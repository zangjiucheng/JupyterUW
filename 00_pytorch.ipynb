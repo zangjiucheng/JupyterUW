{
 "cells": [
  {
   "cell_type": "markdown",
   "id": "01db1a57-9405-47ec-87c7-0c86191375c6",
   "metadata": {},
   "source": [
    "## Installation for pytorch (new Version: 2.1.2 currently)\n",
    "%pip install -U --user torch torchvision torchaudio \n",
    "%pip install -U numpy --user\n",
    "%pip install -U panda --user\n",
    "import sys\n",
    "sys.path.append(\"/home/j7zang/.local/lib/python3.10/site-packages\")"
   ]
  },
  {
   "cell_type": "markdown",
   "id": "7f9a19de-3eec-4fa9-b8fe-a3941b286eeb",
   "metadata": {},
   "source": [
    "!nvidia-msi"
   ]
  },
  {
   "cell_type": "markdown",
   "id": "c22021ff-9f4f-4f9c-a20d-6d21476cab68",
   "metadata": {},
   "source": [
    "### Start Codding Here: "
   ]
  },
  {
   "cell_type": "code",
   "execution_count": 1,
   "id": "627905a6-4cc7-415f-b6ff-0d3930f0ccb5",
   "metadata": {},
   "outputs": [],
   "source": [
    "import torch   \n",
    "import pandas as pd\n",
    "import numpy as np\n",
    "import matplotlib.pyplot as plt"
   ]
  },
  {
   "cell_type": "code",
   "execution_count": 2,
   "id": "4b51717a-d6ce-4a01-8be0-2ca477b91a71",
   "metadata": {},
   "outputs": [
    {
     "name": "stdout",
     "output_type": "stream",
     "text": [
      "1.12.1\n"
     ]
    }
   ],
   "source": [
    "print(torch.__version__)"
   ]
  },
  {
   "cell_type": "code",
   "execution_count": 3,
   "id": "b04800d1-97aa-4f43-94b7-34e659481d54",
   "metadata": {},
   "outputs": [
    {
     "data": {
      "text/plain": [
       "torch.Size([1, 3, 3])"
      ]
     },
     "execution_count": 3,
     "metadata": {},
     "output_type": "execute_result"
    }
   ],
   "source": [
    "scalar = torch.tensor(7)\n",
    "scalar.item()\n",
    "vector = torch.tensor([2,2])\n",
    "vector.ndim\n",
    "vector.shape\n",
    "MATRIX = torch.tensor([[[1,2,3],[4,5,6],[7,8,9]]])\n",
    "MATRIX.ndim\n",
    "MATRIX.shape"
   ]
  },
  {
   "cell_type": "code",
   "execution_count": 4,
   "id": "40cea7b5-505b-477d-9c87-92e66e09cf05",
   "metadata": {},
   "outputs": [
    {
     "data": {
      "text/plain": [
       "torch.Size([48, 48, 1])"
      ]
     },
     "execution_count": 4,
     "metadata": {},
     "output_type": "execute_result"
    }
   ],
   "source": [
    "randon_tensor = torch.rand(size=(48,48,1),device=\"cpu\")\n",
    "randon_tensor.shape"
   ]
  },
  {
   "cell_type": "code",
   "execution_count": 5,
   "id": "9310a712-f0a9-4e29-927b-be7b6fe7e1f6",
   "metadata": {},
   "outputs": [
    {
     "data": {
      "text/plain": [
       "torch.float32"
      ]
     },
     "execution_count": 5,
     "metadata": {},
     "output_type": "execute_result"
    }
   ],
   "source": [
    "randon_tensor.dtype"
   ]
  },
  {
   "cell_type": "code",
   "execution_count": 6,
   "id": "e3157dcd-6ab0-4107-92ef-d62015381231",
   "metadata": {},
   "outputs": [
    {
     "data": {
      "text/plain": [
       "torch.float16"
      ]
     },
     "execution_count": 6,
     "metadata": {},
     "output_type": "execute_result"
    }
   ],
   "source": [
    "ones_tensor = torch.ones(size=(48,48,1),dtype=torch.half)\n",
    "ones_tensor.dtype"
   ]
  },
  {
   "cell_type": "code",
   "execution_count": 7,
   "id": "0625a2b8-a432-4ad3-b167-a1f78316b7d3",
   "metadata": {},
   "outputs": [
    {
     "data": {
      "text/plain": [
       "(torch.Size([48, 48, 1]), device(type='cpu'), torch.float32)"
      ]
     },
     "execution_count": 7,
     "metadata": {},
     "output_type": "execute_result"
    }
   ],
   "source": [
    "zeros_tensor = torch.zeros_like(input=randon_tensor)\n",
    "zeros_tensor.shape, zeros_tensor.device, zeros_tensor.dtype"
   ]
  },
  {
   "cell_type": "code",
   "execution_count": 8,
   "id": "363fbbcf-7def-49c6-9abb-3ddacaba15dd",
   "metadata": {},
   "outputs": [
    {
     "data": {
      "text/plain": [
       "(tensor([ 1, 11, 21, 31, 41, 51, 61, 71, 81, 91]), torch.int64)"
      ]
     },
     "execution_count": 8,
     "metadata": {},
     "output_type": "execute_result"
    }
   ],
   "source": [
    "list_tensor = torch.arange(1,101,10)\n",
    "list_tensor, list_tensor.dtype"
   ]
  },
  {
   "cell_type": "code",
   "execution_count": 9,
   "id": "5da7ae29-d51a-4dac-a84e-72eddafe6d94",
   "metadata": {},
   "outputs": [
    {
     "data": {
      "text/plain": [
       "tensor([[0.8894, 0.9364],\n",
       "        [0.9364, 1.2191]])"
      ]
     },
     "execution_count": 9,
     "metadata": {},
     "output_type": "execute_result"
    }
   ],
   "source": [
    "randon_tensorA = torch.rand(2,3)\n",
    "randon_tensorB = randon_tensorA\n",
    "torch.mm(randon_tensorA, randon_tensorB.T)"
   ]
  },
  {
   "cell_type": "code",
   "execution_count": 10,
   "id": "d096cd8b-c56e-41ca-9898-b6cf6ff05845",
   "metadata": {},
   "outputs": [
    {
     "data": {
      "text/plain": [
       "(tensor([[0.4885, 0.7927, 0.1492],\n",
       "         [0.5817, 0.7064, 0.6178]]),\n",
       " tensor(0.7927),\n",
       " tensor(0.1492))"
      ]
     },
     "execution_count": 10,
     "metadata": {},
     "output_type": "execute_result"
    }
   ],
   "source": [
    "randon_tensorA,randon_tensorA.max(),randon_tensorA.min()"
   ]
  },
  {
   "cell_type": "code",
   "execution_count": 11,
   "id": "af41b618-4456-4b03-a533-3256d9f93ae9",
   "metadata": {},
   "outputs": [
    {
     "data": {
      "text/plain": [
       "(tensor(46.), tensor(41.))"
      ]
     },
     "execution_count": 11,
     "metadata": {},
     "output_type": "execute_result"
    }
   ],
   "source": [
    "list_tensor.type(torch.float32).mean(), list_tensor.type(torch.float32).median()"
   ]
  },
  {
   "cell_type": "code",
   "execution_count": 12,
   "id": "96213a3d-2db1-4d55-8ad0-f8565d1a0548",
   "metadata": {},
   "outputs": [
    {
     "data": {
      "text/plain": [
       "torch.Size([345, 345, 3])"
      ]
     },
     "execution_count": 12,
     "metadata": {},
     "output_type": "execute_result"
    }
   ],
   "source": [
    "image_tensor = torch.rand(345,345,3)\n",
    "image_tensor.shape"
   ]
  },
  {
   "cell_type": "code",
   "execution_count": 13,
   "id": "0bd4fa0b-3de1-49d3-bc2e-2d648e84c121",
   "metadata": {},
   "outputs": [
    {
     "data": {
      "text/plain": [
       "torch.Size([115, 115, 27])"
      ]
     },
     "execution_count": 13,
     "metadata": {},
     "output_type": "execute_result"
    }
   ],
   "source": [
    "image_tensor.reshape(115,115,27).shape"
   ]
  },
  {
   "cell_type": "code",
   "execution_count": 14,
   "id": "a09ff409-b3e0-4517-b3c8-5c599168f573",
   "metadata": {},
   "outputs": [
    {
     "data": {
      "text/plain": [
       "tensor([[[9.0000, 0.4055, 0.8307],\n",
       "         [0.6722, 0.2045, 0.0500],\n",
       "         [0.0656, 0.0758, 0.0360],\n",
       "         ...,\n",
       "         [0.8651, 0.8146, 0.5787],\n",
       "         [0.1267, 0.3484, 0.3236],\n",
       "         [0.8303, 0.7465, 0.3380]],\n",
       "\n",
       "        [[0.9985, 0.1503, 0.8764],\n",
       "         [0.6972, 0.2069, 0.9792],\n",
       "         [0.7109, 0.8641, 0.9124],\n",
       "         ...,\n",
       "         [0.5601, 0.7299, 0.2166],\n",
       "         [0.2046, 0.9793, 0.2517],\n",
       "         [0.1895, 0.8127, 0.6153]],\n",
       "\n",
       "        [[0.2669, 0.8384, 0.9986],\n",
       "         [0.0661, 0.6477, 0.3489],\n",
       "         [0.4042, 0.7599, 0.6569],\n",
       "         ...,\n",
       "         [0.4240, 0.3415, 0.1390],\n",
       "         [0.8165, 0.2461, 0.0368],\n",
       "         [0.7697, 0.3144, 0.5777]],\n",
       "\n",
       "        ...,\n",
       "\n",
       "        [[0.8412, 0.8074, 0.2820],\n",
       "         [0.4531, 0.7143, 0.1059],\n",
       "         [0.2150, 0.4902, 0.0556],\n",
       "         ...,\n",
       "         [0.3426, 0.9286, 0.8720],\n",
       "         [0.1960, 0.9735, 0.0130],\n",
       "         [0.3360, 0.8997, 0.3695]],\n",
       "\n",
       "        [[0.3113, 0.2920, 0.9192],\n",
       "         [0.1356, 0.2210, 0.7104],\n",
       "         [0.0479, 0.2826, 0.5392],\n",
       "         ...,\n",
       "         [0.5795, 0.5424, 0.2737],\n",
       "         [0.4870, 0.3872, 0.0851],\n",
       "         [0.0735, 0.0105, 0.5142]],\n",
       "\n",
       "        [[0.2372, 0.7310, 0.3920],\n",
       "         [0.7161, 0.7369, 0.7132],\n",
       "         [0.3652, 0.1333, 0.1727],\n",
       "         ...,\n",
       "         [0.7935, 0.3224, 0.2687],\n",
       "         [0.5458, 0.6028, 0.4795],\n",
       "         [0.1447, 0.1605, 0.5870]]])"
      ]
     },
     "execution_count": 14,
     "metadata": {},
     "output_type": "execute_result"
    }
   ],
   "source": [
    "different_view = image_tensor.view(115,115,27)\n",
    "different_view[0,0,0] = 9 # just a pointer will shange original matrix same\n",
    "image_tensor"
   ]
  },
  {
   "cell_type": "code",
   "execution_count": 15,
   "id": "aa663cd8-ca89-42b4-9160-823ec26ce57b",
   "metadata": {},
   "outputs": [
    {
     "data": {
      "text/plain": [
       "torch.Size([2, 1, 2, 2])"
      ]
     },
     "execution_count": 15,
     "metadata": {},
     "output_type": "execute_result"
    }
   ],
   "source": [
    "test_tensor = torch.zeros(1,2,1,2,2)\n",
    "torch.squeeze(test_tensor,0).shape"
   ]
  },
  {
   "cell_type": "code",
   "execution_count": 16,
   "id": "d3085c5e-a6f2-42b9-85ca-1b94524cea9f",
   "metadata": {},
   "outputs": [
    {
     "data": {
      "text/plain": [
       "torch.Size([1, 2, 1, 2, 2, 1])"
      ]
     },
     "execution_count": 16,
     "metadata": {},
     "output_type": "execute_result"
    }
   ],
   "source": [
    "torch.unsqueeze(test_tensor,5).shape"
   ]
  },
  {
   "cell_type": "code",
   "execution_count": 17,
   "id": "18484e29-84ec-468f-9883-1b234c97326c",
   "metadata": {},
   "outputs": [
    {
     "data": {
      "text/plain": [
       "(torch.Size([3, 1, 2, 1, 2, 2]), torch.Size([1, 3, 2, 1, 2, 2]))"
      ]
     },
     "execution_count": 17,
     "metadata": {},
     "output_type": "execute_result"
    }
   ],
   "source": [
    "torch.stack([test_tensor,test_tensor,test_tensor],dim=0).shape, torch.stack([test_tensor,test_tensor,test_tensor],dim=1).shape"
   ]
  },
  {
   "cell_type": "code",
   "execution_count": 18,
   "id": "d5e120e6-8be0-4802-96ee-fc7d8e1107c2",
   "metadata": {},
   "outputs": [
    {
     "data": {
      "text/plain": [
       "torch.Size([1, 2, 1, 2, 2])"
      ]
     },
     "execution_count": 18,
     "metadata": {},
     "output_type": "execute_result"
    }
   ],
   "source": [
    "test_tensor.shape"
   ]
  },
  {
   "cell_type": "code",
   "execution_count": 19,
   "id": "87b8ea9e-122f-4f9d-9427-e5363f4d07e9",
   "metadata": {},
   "outputs": [
    {
     "data": {
      "text/plain": [
       "torch.Size([3, 2, 1, 2, 2])"
      ]
     },
     "execution_count": 19,
     "metadata": {},
     "output_type": "execute_result"
    }
   ],
   "source": [
    "torch.vstack([test_tensor,test_tensor,test_tensor]).shape"
   ]
  },
  {
   "cell_type": "code",
   "execution_count": 20,
   "id": "6224064e-2b56-455e-b0d6-82860de5aca5",
   "metadata": {},
   "outputs": [
    {
     "data": {
      "text/plain": [
       "torch.Size([1, 6, 1, 2, 2])"
      ]
     },
     "execution_count": 20,
     "metadata": {},
     "output_type": "execute_result"
    }
   ],
   "source": [
    "torch.hstack([test_tensor,test_tensor,test_tensor]).shape"
   ]
  },
  {
   "cell_type": "code",
   "execution_count": 23,
   "id": "45ffbd3f-a528-425b-85c9-d56d53efec29",
   "metadata": {},
   "outputs": [
    {
     "data": {
      "text/plain": [
       "tensor([[[9.0000, 0.6722, 0.0656,  ..., 0.8651, 0.1267, 0.8303],\n",
       "         [0.9985, 0.6972, 0.7109,  ..., 0.5601, 0.2046, 0.1895],\n",
       "         [0.2669, 0.0661, 0.4042,  ..., 0.4240, 0.8165, 0.7697],\n",
       "         ...,\n",
       "         [0.8412, 0.4531, 0.2150,  ..., 0.3426, 0.1960, 0.3360],\n",
       "         [0.3113, 0.1356, 0.0479,  ..., 0.5795, 0.4870, 0.0735],\n",
       "         [0.2372, 0.7161, 0.3652,  ..., 0.7935, 0.5458, 0.1447]],\n",
       "\n",
       "        [[0.4055, 0.2045, 0.0758,  ..., 0.8146, 0.3484, 0.7465],\n",
       "         [0.1503, 0.2069, 0.8641,  ..., 0.7299, 0.9793, 0.8127],\n",
       "         [0.8384, 0.6477, 0.7599,  ..., 0.3415, 0.2461, 0.3144],\n",
       "         ...,\n",
       "         [0.8074, 0.7143, 0.4902,  ..., 0.9286, 0.9735, 0.8997],\n",
       "         [0.2920, 0.2210, 0.2826,  ..., 0.5424, 0.3872, 0.0105],\n",
       "         [0.7310, 0.7369, 0.1333,  ..., 0.3224, 0.6028, 0.1605]],\n",
       "\n",
       "        [[0.8307, 0.0500, 0.0360,  ..., 0.5787, 0.3236, 0.3380],\n",
       "         [0.8764, 0.9792, 0.9124,  ..., 0.2166, 0.2517, 0.6153],\n",
       "         [0.9986, 0.3489, 0.6569,  ..., 0.1390, 0.0368, 0.5777],\n",
       "         ...,\n",
       "         [0.2820, 0.1059, 0.0556,  ..., 0.8720, 0.0130, 0.3695],\n",
       "         [0.9192, 0.7104, 0.5392,  ..., 0.2737, 0.0851, 0.5142],\n",
       "         [0.3920, 0.7132, 0.1727,  ..., 0.2687, 0.4795, 0.5870]]])"
      ]
     },
     "execution_count": 23,
     "metadata": {},
     "output_type": "execute_result"
    }
   ],
   "source": [
    "torch.permute(image_tensor,(2,0,1))"
   ]
  },
  {
   "cell_type": "code",
   "execution_count": 29,
   "id": "100ebda7-125a-45a9-bdb3-86ff349f14ea",
   "metadata": {},
   "outputs": [
    {
     "data": {
      "text/plain": [
       "tensor([[[1, 2, 3],\n",
       "         [4, 5, 6],\n",
       "         [7, 8, 9]]])"
      ]
     },
     "execution_count": 29,
     "metadata": {},
     "output_type": "execute_result"
    }
   ],
   "source": [
    "x = torch.arange(1,10).reshape(1,3,3)\n",
    "x"
   ]
  },
  {
   "cell_type": "code",
   "execution_count": 30,
   "id": "000bf1dc-c2df-40e6-b2d6-5969abf51d78",
   "metadata": {},
   "outputs": [
    {
     "data": {
      "text/plain": [
       "tensor([[1, 2, 3],\n",
       "        [4, 5, 6],\n",
       "        [7, 8, 9]])"
      ]
     },
     "execution_count": 30,
     "metadata": {},
     "output_type": "execute_result"
    }
   ],
   "source": [
    "x[0]"
   ]
  },
  {
   "cell_type": "code",
   "execution_count": 46,
   "id": "0807d43b-9ebd-4f22-aa96-e4587b2868e2",
   "metadata": {},
   "outputs": [
    {
     "data": {
      "text/plain": [
       "tensor([1, 2, 3])"
      ]
     },
     "execution_count": 46,
     "metadata": {},
     "output_type": "execute_result"
    }
   ],
   "source": [
    "x[0,0]"
   ]
  },
  {
   "cell_type": "code",
   "execution_count": 48,
   "id": "6b72870f-7b64-4394-85bc-99a334767d24",
   "metadata": {},
   "outputs": [
    {
     "data": {
      "text/plain": [
       "tensor([[7, 8, 9]])"
      ]
     },
     "execution_count": 48,
     "metadata": {},
     "output_type": "execute_result"
    }
   ],
   "source": [
    "x[:,2,:]"
   ]
  },
  {
   "cell_type": "code",
   "execution_count": 49,
   "id": "8a5bdea2-58fc-4b5b-bd20-6c69b6391a05",
   "metadata": {},
   "outputs": [
    {
     "data": {
      "text/plain": [
       "tensor([[2, 5, 8]])"
      ]
     },
     "execution_count": 49,
     "metadata": {},
     "output_type": "execute_result"
    }
   ],
   "source": [
    "x[:,:,1]"
   ]
  },
  {
   "cell_type": "code",
   "execution_count": 35,
   "id": "b242f2f5-58d1-4280-a359-1641c6f95d24",
   "metadata": {},
   "outputs": [],
   "source": [
    "import numpy as np"
   ]
  },
  {
   "cell_type": "code",
   "execution_count": 38,
   "id": "498cc28f-5914-4338-855d-74eb434bff50",
   "metadata": {},
   "outputs": [
    {
     "data": {
      "text/plain": [
       "array([0, 1, 2, 3, 4, 5, 6, 7, 8, 9])"
      ]
     },
     "execution_count": 38,
     "metadata": {},
     "output_type": "execute_result"
    }
   ],
   "source": [
    "np_example = np.arange(0,10)\n",
    "np_example"
   ]
  },
  {
   "cell_type": "code",
   "execution_count": 42,
   "id": "2328e22d-99a0-429e-80fd-8b1e9071d325",
   "metadata": {},
   "outputs": [
    {
     "data": {
      "text/plain": [
       "tensor([0, 1, 2, 3, 4, 5, 6, 7, 8, 9])"
      ]
     },
     "execution_count": 42,
     "metadata": {},
     "output_type": "execute_result"
    }
   ],
   "source": [
    "trans_torch = torch.from_numpy(np_example)\n",
    "trans_torch"
   ]
  },
  {
   "cell_type": "code",
   "execution_count": 44,
   "id": "531c50e9-3780-4b93-81f8-0b767d142774",
   "metadata": {},
   "outputs": [
    {
     "data": {
      "text/plain": [
       "array([0, 1, 2, 3, 4, 5, 6, 7, 8, 9])"
      ]
     },
     "execution_count": 44,
     "metadata": {},
     "output_type": "execute_result"
    }
   ],
   "source": [
    "trans_torch.numpy()"
   ]
  },
  {
   "cell_type": "code",
   "execution_count": null,
   "id": "32497daa-a528-4168-9c1e-99e3559ee9df",
   "metadata": {},
   "outputs": [],
   "source": []
  }
 ],
 "metadata": {
  "kernelspec": {
   "display_name": "Python 3",
   "language": "python",
   "name": "python3"
  },
  "language_info": {
   "codemirror_mode": {
    "name": "ipython",
    "version": 3
   },
   "file_extension": ".py",
   "mimetype": "text/x-python",
   "name": "python",
   "nbconvert_exporter": "python",
   "pygments_lexer": "ipython3",
   "version": "3.10.4"
  }
 },
 "nbformat": 4,
 "nbformat_minor": 5
}
