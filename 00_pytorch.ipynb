{
 "cells": [
  {
   "cell_type": "markdown",
   "id": "01db1a57-9405-47ec-87c7-0c86191375c6",
   "metadata": {},
   "source": [
    "## Installation for pytorch (new Version: 2.1.2 currently)\n",
    "%pip install -U --user torch torchvision torchaudio \n",
    "%pip install -U numpy --user\n",
    "%pip install -U panda --user\n",
    "import sys\n",
    "sys.path.append(\"/home/j7zang/.local/lib/python3.10/site-packages\")"
   ]
  },
  {
   "cell_type": "markdown",
   "id": "7f9a19de-3eec-4fa9-b8fe-a3941b286eeb",
   "metadata": {},
   "source": [
    "!nvidia-msi"
   ]
  },
  {
   "cell_type": "markdown",
   "id": "c22021ff-9f4f-4f9c-a20d-6d21476cab68",
   "metadata": {},
   "source": [
    "### Start Codding Here: "
   ]
  },
  {
   "cell_type": "code",
   "execution_count": 7,
   "id": "627905a6-4cc7-415f-b6ff-0d3930f0ccb5",
   "metadata": {},
   "outputs": [],
   "source": [
    "import torch   \n",
    "import pandas as pd\n",
    "import numpy as np\n",
    "import matplotlib.pyplot as plt"
   ]
  },
  {
   "cell_type": "code",
   "execution_count": 8,
   "id": "4b51717a-d6ce-4a01-8be0-2ca477b91a71",
   "metadata": {},
   "outputs": [
    {
     "name": "stdout",
     "output_type": "stream",
     "text": [
      "1.12.1\n"
     ]
    }
   ],
   "source": [
    "print(torch.__version__)"
   ]
  },
  {
   "cell_type": "code",
   "execution_count": 9,
   "id": "b04800d1-97aa-4f43-94b7-34e659481d54",
   "metadata": {},
   "outputs": [
    {
     "data": {
      "text/plain": [
       "torch.Size([1, 3, 3])"
      ]
     },
     "execution_count": 9,
     "metadata": {},
     "output_type": "execute_result"
    }
   ],
   "source": [
    "scalar = torch.tensor(7)\n",
    "scalar.item()\n",
    "vector = torch.tensor([2,2])\n",
    "vector.ndim\n",
    "vector.shape\n",
    "MATRIX = torch.tensor([[[1,2,3],[4,5,6],[7,8,9]]])\n",
    "MATRIX.ndim\n",
    "MATRIX.shape"
   ]
  },
  {
   "cell_type": "code",
   "execution_count": 10,
   "id": "40cea7b5-505b-477d-9c87-92e66e09cf05",
   "metadata": {},
   "outputs": [
    {
     "data": {
      "text/plain": [
       "torch.Size([48, 48, 1])"
      ]
     },
     "execution_count": 10,
     "metadata": {},
     "output_type": "execute_result"
    }
   ],
   "source": [
    "randon_tensor = torch.rand(size=(48,48,1),device=\"cpu\")\n",
    "randon_tensor.shape"
   ]
  },
  {
   "cell_type": "code",
   "execution_count": 11,
   "id": "9310a712-f0a9-4e29-927b-be7b6fe7e1f6",
   "metadata": {},
   "outputs": [
    {
     "data": {
      "text/plain": [
       "torch.float32"
      ]
     },
     "execution_count": 11,
     "metadata": {},
     "output_type": "execute_result"
    }
   ],
   "source": [
    "randon_tensor.dtype"
   ]
  },
  {
   "cell_type": "code",
   "execution_count": 12,
   "id": "e3157dcd-6ab0-4107-92ef-d62015381231",
   "metadata": {},
   "outputs": [
    {
     "data": {
      "text/plain": [
       "torch.float16"
      ]
     },
     "execution_count": 12,
     "metadata": {},
     "output_type": "execute_result"
    }
   ],
   "source": [
    "ones_tensor = torch.ones(size=(48,48,1),dtype=torch.half)\n",
    "ones_tensor.dtype"
   ]
  },
  {
   "cell_type": "code",
   "execution_count": 13,
   "id": "0625a2b8-a432-4ad3-b167-a1f78316b7d3",
   "metadata": {},
   "outputs": [
    {
     "data": {
      "text/plain": [
       "(torch.Size([48, 48, 1]), device(type='cpu'), torch.float32)"
      ]
     },
     "execution_count": 13,
     "metadata": {},
     "output_type": "execute_result"
    }
   ],
   "source": [
    "zeros_tensor = torch.zeros_like(input=randon_tensor)\n",
    "zeros_tensor.shape, zeros_tensor.device, zeros_tensor.dtype"
   ]
  },
  {
   "cell_type": "code",
   "execution_count": 14,
   "id": "363fbbcf-7def-49c6-9abb-3ddacaba15dd",
   "metadata": {},
   "outputs": [
    {
     "data": {
      "text/plain": [
       "(tensor([ 1, 11, 21, 31, 41, 51, 61, 71, 81, 91]), torch.int64)"
      ]
     },
     "execution_count": 14,
     "metadata": {},
     "output_type": "execute_result"
    }
   ],
   "source": [
    "list_tensor = torch.arange(1,101,10)\n",
    "list_tensor, list_tensor.dtype"
   ]
  },
  {
   "cell_type": "code",
   "execution_count": 15,
   "id": "5da7ae29-d51a-4dac-a84e-72eddafe6d94",
   "metadata": {},
   "outputs": [
    {
     "data": {
      "text/plain": [
       "tensor([[1.5013, 0.8429],\n",
       "        [0.8429, 0.5915]])"
      ]
     },
     "execution_count": 15,
     "metadata": {},
     "output_type": "execute_result"
    }
   ],
   "source": [
    "randon_tensorA = torch.rand(2,3)\n",
    "randon_tensorB = randon_tensorA\n",
    "torch.mm(randon_tensorA, randon_tensorB.T)"
   ]
  },
  {
   "cell_type": "code",
   "execution_count": 16,
   "id": "d096cd8b-c56e-41ca-9898-b6cf6ff05845",
   "metadata": {},
   "outputs": [
    {
     "data": {
      "text/plain": [
       "(tensor([[0.8963, 0.4425, 0.7087],\n",
       "         [0.5170, 0.5318, 0.2035]]),\n",
       " tensor(0.8963),\n",
       " tensor(0.2035))"
      ]
     },
     "execution_count": 16,
     "metadata": {},
     "output_type": "execute_result"
    }
   ],
   "source": [
    "randon_tensorA,randon_tensorA.max(),randon_tensorA.min()"
   ]
  },
  {
   "cell_type": "code",
   "execution_count": 17,
   "id": "af41b618-4456-4b03-a533-3256d9f93ae9",
   "metadata": {},
   "outputs": [
    {
     "data": {
      "text/plain": [
       "(tensor(46.), tensor(41.))"
      ]
     },
     "execution_count": 17,
     "metadata": {},
     "output_type": "execute_result"
    }
   ],
   "source": [
    "list_tensor.type(torch.float32).mean(), list_tensor.type(torch.float32).median()"
   ]
  },
  {
   "cell_type": "code",
   "execution_count": 31,
   "id": "96213a3d-2db1-4d55-8ad0-f8565d1a0548",
   "metadata": {},
   "outputs": [
    {
     "data": {
      "text/plain": [
       "torch.Size([345, 345, 3])"
      ]
     },
     "execution_count": 31,
     "metadata": {},
     "output_type": "execute_result"
    }
   ],
   "source": [
    "image_tensor = torch.rand(345,345,3)\n",
    "image_tensor.shape"
   ]
  },
  {
   "cell_type": "code",
   "execution_count": 30,
   "id": "0bd4fa0b-3de1-49d3-bc2e-2d648e84c121",
   "metadata": {},
   "outputs": [
    {
     "data": {
      "text/plain": [
       "torch.Size([115, 115, 27])"
      ]
     },
     "execution_count": 30,
     "metadata": {},
     "output_type": "execute_result"
    }
   ],
   "source": [
    "image_tensor.reshape(115,115,27).shape"
   ]
  },
  {
   "cell_type": "code",
   "execution_count": 66,
   "id": "a09ff409-b3e0-4517-b3c8-5c599168f573",
   "metadata": {},
   "outputs": [
    {
     "data": {
      "text/plain": [
       "tensor([[[9.0000e+00, 9.5114e-02, 1.8963e-02],\n",
       "         [4.8922e-01, 5.0565e-01, 6.2698e-01],\n",
       "         [3.4313e-01, 2.6177e-01, 2.4234e-01],\n",
       "         ...,\n",
       "         [3.4801e-01, 8.9002e-01, 7.8791e-01],\n",
       "         [2.3174e-01, 3.6311e-01, 4.3433e-01],\n",
       "         [3.6376e-01, 3.7134e-01, 8.3908e-01]],\n",
       "\n",
       "        [[3.8710e-01, 2.8872e-02, 4.4529e-01],\n",
       "         [5.2987e-03, 6.3932e-01, 5.5212e-01],\n",
       "         [3.5481e-01, 3.7149e-01, 2.2187e-01],\n",
       "         ...,\n",
       "         [7.0491e-01, 1.4186e-01, 3.9130e-01],\n",
       "         [6.5829e-01, 3.0551e-01, 3.9572e-01],\n",
       "         [1.3164e-01, 1.6737e-01, 6.0167e-01]],\n",
       "\n",
       "        [[7.6266e-01, 1.6542e-02, 4.1568e-01],\n",
       "         [1.3579e-01, 1.7777e-01, 7.2644e-01],\n",
       "         [2.0493e-01, 9.4290e-01, 6.9076e-01],\n",
       "         ...,\n",
       "         [2.5215e-01, 9.0408e-01, 6.8937e-01],\n",
       "         [2.0162e-01, 3.8405e-01, 9.5638e-01],\n",
       "         [4.9810e-01, 5.8537e-01, 9.0289e-01]],\n",
       "\n",
       "        ...,\n",
       "\n",
       "        [[6.4337e-01, 8.2087e-01, 7.9775e-01],\n",
       "         [8.5822e-01, 4.3240e-01, 9.0340e-01],\n",
       "         [5.8943e-01, 6.9626e-01, 3.2740e-01],\n",
       "         ...,\n",
       "         [4.9908e-01, 6.3798e-01, 3.2623e-02],\n",
       "         [7.4822e-01, 5.6337e-01, 9.6100e-01],\n",
       "         [9.5127e-01, 6.1003e-01, 5.6739e-01]],\n",
       "\n",
       "        [[4.5530e-01, 3.8960e-01, 6.5880e-01],\n",
       "         [1.2545e-01, 9.8970e-01, 7.9943e-01],\n",
       "         [8.8197e-01, 6.6177e-01, 2.6130e-01],\n",
       "         ...,\n",
       "         [4.1109e-01, 7.4061e-01, 3.1168e-01],\n",
       "         [9.2612e-01, 1.3702e-01, 4.1332e-01],\n",
       "         [1.4327e-01, 7.9538e-01, 9.5555e-01]],\n",
       "\n",
       "        [[4.6124e-01, 9.5977e-01, 4.8402e-02],\n",
       "         [9.8334e-01, 3.0093e-01, 6.5335e-01],\n",
       "         [8.2550e-01, 3.8849e-01, 8.3407e-02],\n",
       "         ...,\n",
       "         [2.8490e-01, 3.1379e-01, 6.4331e-01],\n",
       "         [1.9583e-01, 3.6814e-01, 9.7650e-01],\n",
       "         [6.5040e-01, 5.6191e-01, 3.9101e-01]]])"
      ]
     },
     "execution_count": 66,
     "metadata": {},
     "output_type": "execute_result"
    }
   ],
   "source": [
    "different_view = image_tensor.view(115,115,27)\n",
    "different_view[0,0,0] = 9 # just a pointer will shange original matrix same\n",
    "image_tensor"
   ]
  },
  {
   "cell_type": "code",
   "execution_count": 24,
   "id": "aa663cd8-ca89-42b4-9160-823ec26ce57b",
   "metadata": {},
   "outputs": [
    {
     "data": {
      "text/plain": [
       "torch.Size([2, 1, 2, 2])"
      ]
     },
     "execution_count": 24,
     "metadata": {},
     "output_type": "execute_result"
    }
   ],
   "source": [
    "test_tensor = torch.zeros(1,2,1,2,2)\n",
    "torch.squeeze(test_tensor,0).shape"
   ]
  },
  {
   "cell_type": "code",
   "execution_count": 26,
   "id": "d3085c5e-a6f2-42b9-85ca-1b94524cea9f",
   "metadata": {},
   "outputs": [
    {
     "data": {
      "text/plain": [
       "torch.Size([1, 2, 1, 2, 2, 1])"
      ]
     },
     "execution_count": 26,
     "metadata": {},
     "output_type": "execute_result"
    }
   ],
   "source": [
    "torch.unsqueeze(test_tensor,5).shape"
   ]
  },
  {
   "cell_type": "code",
   "execution_count": 61,
   "id": "18484e29-84ec-468f-9883-1b234c97326c",
   "metadata": {},
   "outputs": [
    {
     "data": {
      "text/plain": [
       "(torch.Size([3, 1, 2, 1, 2, 2]), torch.Size([1, 3, 2, 1, 2, 2]))"
      ]
     },
     "execution_count": 61,
     "metadata": {},
     "output_type": "execute_result"
    }
   ],
   "source": [
    "torch.stack([test_tensor,test_tensor,test_tensor],dim=0).shape, torch.stack([test_tensor,test_tensor,test_tensor],dim=1).shape"
   ]
  },
  {
   "cell_type": "code",
   "execution_count": 53,
   "id": "d5e120e6-8be0-4802-96ee-fc7d8e1107c2",
   "metadata": {},
   "outputs": [
    {
     "data": {
      "text/plain": [
       "torch.Size([1, 2, 1, 2, 2])"
      ]
     },
     "execution_count": 53,
     "metadata": {},
     "output_type": "execute_result"
    }
   ],
   "source": [
    "test_tensor.shape"
   ]
  },
  {
   "cell_type": "code",
   "execution_count": 52,
   "id": "87b8ea9e-122f-4f9d-9427-e5363f4d07e9",
   "metadata": {},
   "outputs": [
    {
     "data": {
      "text/plain": [
       "torch.Size([3, 2, 1, 2, 2])"
      ]
     },
     "execution_count": 52,
     "metadata": {},
     "output_type": "execute_result"
    }
   ],
   "source": [
    "torch.vstack([test_tensor,test_tensor,test_tensor]).shape"
   ]
  },
  {
   "cell_type": "code",
   "execution_count": 62,
   "id": "6224064e-2b56-455e-b0d6-82860de5aca5",
   "metadata": {},
   "outputs": [
    {
     "data": {
      "text/plain": [
       "torch.Size([1, 6, 1, 2, 2])"
      ]
     },
     "execution_count": 62,
     "metadata": {},
     "output_type": "execute_result"
    }
   ],
   "source": [
    "torch.hstack([test_tensor,test_tensor,test_tensor]).shape"
   ]
  },
  {
   "cell_type": "code",
   "execution_count": 67,
   "id": "45ffbd3f-a528-425b-85c9-d56d53efec29",
   "metadata": {},
   "outputs": [
    {
     "data": {
      "text/plain": [
       "tensor([[[9.0000e+00, 4.8922e-01, 3.4313e-01,  ..., 3.4801e-01,\n",
       "          2.3174e-01, 3.6376e-01],\n",
       "         [3.8710e-01, 5.2987e-03, 3.5481e-01,  ..., 7.0491e-01,\n",
       "          6.5829e-01, 1.3164e-01],\n",
       "         [7.6266e-01, 1.3579e-01, 2.0493e-01,  ..., 2.5215e-01,\n",
       "          2.0162e-01, 4.9810e-01],\n",
       "         ...,\n",
       "         [6.4337e-01, 8.5822e-01, 5.8943e-01,  ..., 4.9908e-01,\n",
       "          7.4822e-01, 9.5127e-01],\n",
       "         [4.5530e-01, 1.2545e-01, 8.8197e-01,  ..., 4.1109e-01,\n",
       "          9.2612e-01, 1.4327e-01],\n",
       "         [4.6124e-01, 9.8334e-01, 8.2550e-01,  ..., 2.8490e-01,\n",
       "          1.9583e-01, 6.5040e-01]],\n",
       "\n",
       "        [[9.5114e-02, 5.0565e-01, 2.6177e-01,  ..., 8.9002e-01,\n",
       "          3.6311e-01, 3.7134e-01],\n",
       "         [2.8872e-02, 6.3932e-01, 3.7149e-01,  ..., 1.4186e-01,\n",
       "          3.0551e-01, 1.6737e-01],\n",
       "         [1.6542e-02, 1.7777e-01, 9.4290e-01,  ..., 9.0408e-01,\n",
       "          3.8405e-01, 5.8537e-01],\n",
       "         ...,\n",
       "         [8.2087e-01, 4.3240e-01, 6.9626e-01,  ..., 6.3798e-01,\n",
       "          5.6337e-01, 6.1003e-01],\n",
       "         [3.8960e-01, 9.8970e-01, 6.6177e-01,  ..., 7.4061e-01,\n",
       "          1.3702e-01, 7.9538e-01],\n",
       "         [9.5977e-01, 3.0093e-01, 3.8849e-01,  ..., 3.1379e-01,\n",
       "          3.6814e-01, 5.6191e-01]],\n",
       "\n",
       "        [[1.8963e-02, 6.2698e-01, 2.4234e-01,  ..., 7.8791e-01,\n",
       "          4.3433e-01, 8.3908e-01],\n",
       "         [4.4529e-01, 5.5212e-01, 2.2187e-01,  ..., 3.9130e-01,\n",
       "          3.9572e-01, 6.0167e-01],\n",
       "         [4.1568e-01, 7.2644e-01, 6.9076e-01,  ..., 6.8937e-01,\n",
       "          9.5638e-01, 9.0289e-01],\n",
       "         ...,\n",
       "         [7.9775e-01, 9.0340e-01, 3.2740e-01,  ..., 3.2623e-02,\n",
       "          9.6100e-01, 5.6739e-01],\n",
       "         [6.5880e-01, 7.9943e-01, 2.6130e-01,  ..., 3.1168e-01,\n",
       "          4.1332e-01, 9.5555e-01],\n",
       "         [4.8402e-02, 6.5335e-01, 8.3407e-02,  ..., 6.4331e-01,\n",
       "          9.7650e-01, 3.9101e-01]]])"
      ]
     },
     "execution_count": 67,
     "metadata": {},
     "output_type": "execute_result"
    }
   ],
   "source": [
    "torch.permute(image_tensor,(2,0,1))"
   ]
  }
 ],
 "metadata": {
  "kernelspec": {
   "display_name": "Python 3",
   "language": "python",
   "name": "python3"
  },
  "language_info": {
   "codemirror_mode": {
    "name": "ipython",
    "version": 3
   },
   "file_extension": ".py",
   "mimetype": "text/x-python",
   "name": "python",
   "nbconvert_exporter": "python",
   "pygments_lexer": "ipython3",
   "version": "3.10.4"
  }
 },
 "nbformat": 4,
 "nbformat_minor": 5
}
