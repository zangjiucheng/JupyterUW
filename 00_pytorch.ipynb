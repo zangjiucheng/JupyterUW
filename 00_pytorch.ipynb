{
 "cells": [
  {
   "cell_type": "markdown",
   "id": "175bbef0-424b-49c8-854c-05fbeb96b206",
   "metadata": {},
   "source": [
    "## Installation for pytorch\n",
    "!pip3 install torch torchvision torchaudio --user\n",
    "!pip3 install numpy --user\n",
    "!pip3 install panda --user"
   ]
  },
  {
   "cell_type": "markdown",
   "id": "7f9a19de-3eec-4fa9-b8fe-a3941b286eeb",
   "metadata": {},
   "source": [
    "!nvidia-msi"
   ]
  },
  {
   "cell_type": "markdown",
   "id": "c22021ff-9f4f-4f9c-a20d-6d21476cab68",
   "metadata": {},
   "source": [
    "### Start Codding Here: "
   ]
  },
  {
   "cell_type": "code",
   "execution_count": 2,
   "id": "627905a6-4cc7-415f-b6ff-0d3930f0ccb5",
   "metadata": {},
   "outputs": [],
   "source": [
    "import torch   \n",
    "import pandas as pd\n",
    "import numpy as np\n",
    "import matplotlib.pyplot as plt"
   ]
  },
  {
   "cell_type": "code",
   "execution_count": 3,
   "id": "b04800d1-97aa-4f43-94b7-34e659481d54",
   "metadata": {},
   "outputs": [
    {
     "data": {
      "text/plain": [
       "torch.Size([1, 3, 3])"
      ]
     },
     "execution_count": 3,
     "metadata": {},
     "output_type": "execute_result"
    }
   ],
   "source": [
    "scalar = torch.tensor(7)\n",
    "scalar.item()\n",
    "vector = torch.tensor([2,2])\n",
    "vector.ndim\n",
    "vector.shape\n",
    "MATRIX = torch.tensor([[[1,2,3],[4,5,6],[7,8,9]]])\n",
    "MATRIX.ndim\n",
    "MATRIX.shape"
   ]
  },
  {
   "cell_type": "code",
   "execution_count": 4,
   "id": "40cea7b5-505b-477d-9c87-92e66e09cf05",
   "metadata": {},
   "outputs": [
    {
     "data": {
      "text/plain": [
       "torch.Size([48, 48, 1])"
      ]
     },
     "execution_count": 4,
     "metadata": {},
     "output_type": "execute_result"
    }
   ],
   "source": [
    "randon_tensor = torch.rand(size=(48,48,1),device=\"cpu\")\n",
    "randon_tensor.shape"
   ]
  },
  {
   "cell_type": "code",
   "execution_count": 5,
   "id": "9310a712-f0a9-4e29-927b-be7b6fe7e1f6",
   "metadata": {},
   "outputs": [
    {
     "data": {
      "text/plain": [
       "torch.float32"
      ]
     },
     "execution_count": 5,
     "metadata": {},
     "output_type": "execute_result"
    }
   ],
   "source": [
    "randon_tensor.dtype"
   ]
  },
  {
   "cell_type": "code",
   "execution_count": 6,
   "id": "e3157dcd-6ab0-4107-92ef-d62015381231",
   "metadata": {},
   "outputs": [
    {
     "data": {
      "text/plain": [
       "torch.float16"
      ]
     },
     "execution_count": 6,
     "metadata": {},
     "output_type": "execute_result"
    }
   ],
   "source": [
    "ones_tensor = torch.ones(size=(48,48,1),dtype=torch.half)\n",
    "ones_tensor.dtype"
   ]
  },
  {
   "cell_type": "code",
   "execution_count": 8,
   "id": "0625a2b8-a432-4ad3-b167-a1f78316b7d3",
   "metadata": {},
   "outputs": [
    {
     "data": {
      "text/plain": [
       "(torch.Size([48, 48, 1]), device(type='cpu'), torch.float32)"
      ]
     },
     "execution_count": 8,
     "metadata": {},
     "output_type": "execute_result"
    }
   ],
   "source": [
    "zeros_tensor = torch.zeros_like(input=randon_tensor)\n",
    "zeros_tensor.shape, zeros_tensor.device, zeros_tensor.dtype"
   ]
  },
  {
   "cell_type": "code",
   "execution_count": 27,
   "id": "363fbbcf-7def-49c6-9abb-3ddacaba15dd",
   "metadata": {},
   "outputs": [
    {
     "data": {
      "text/plain": [
       "(tensor([ 1, 11, 21, 31, 41, 51, 61, 71, 81, 91]), torch.int64)"
      ]
     },
     "execution_count": 27,
     "metadata": {},
     "output_type": "execute_result"
    }
   ],
   "source": [
    "list_tensor = torch.arange(1,101,10)\n",
    "list_tensor, list_tensor.dtype"
   ]
  },
  {
   "cell_type": "code",
   "execution_count": 14,
   "id": "5da7ae29-d51a-4dac-a84e-72eddafe6d94",
   "metadata": {},
   "outputs": [
    {
     "data": {
      "text/plain": [
       "tensor([[1.1917, 0.9688],\n",
       "        [0.9688, 0.9457]])"
      ]
     },
     "execution_count": 14,
     "metadata": {},
     "output_type": "execute_result"
    }
   ],
   "source": [
    "randon_tensorA = torch.rand(2,3)\n",
    "randon_tensorB = randon_tensorA\n",
    "torch.mm(randon_tensorA, randon_tensorB.T)"
   ]
  },
  {
   "cell_type": "code",
   "execution_count": 19,
   "id": "d096cd8b-c56e-41ca-9898-b6cf6ff05845",
   "metadata": {},
   "outputs": [
    {
     "data": {
      "text/plain": [
       "(tensor([[0.3966, 0.5802, 0.8353],\n",
       "         [0.3535, 0.7902, 0.4431]]),\n",
       " tensor(0.8353),\n",
       " tensor(0.3535))"
      ]
     },
     "execution_count": 19,
     "metadata": {},
     "output_type": "execute_result"
    }
   ],
   "source": [
    "randon_tensorA,randon_tensorA.max(),randon_tensorA.min()"
   ]
  },
  {
   "cell_type": "code",
   "execution_count": 26,
   "id": "af41b618-4456-4b03-a533-3256d9f93ae9",
   "metadata": {},
   "outputs": [
    {
     "data": {
      "text/plain": [
       "(tensor(46.), tensor(41.))"
      ]
     },
     "execution_count": 26,
     "metadata": {},
     "output_type": "execute_result"
    }
   ],
   "source": [
    "list_tensor.type(torch.float32).mean(), list_tensor.type(torch.float32).median()"
   ]
  },
  {
   "cell_type": "code",
   "execution_count": null,
   "id": "ea5fff42-04c1-489a-99e1-ac42cdd1b954",
   "metadata": {},
   "outputs": [],
   "source": []
  }
 ],
 "metadata": {
  "kernelspec": {
   "display_name": "Python 3",
   "language": "python",
   "name": "python3"
  },
  "language_info": {
   "codemirror_mode": {
    "name": "ipython",
    "version": 3
   },
   "file_extension": ".py",
   "mimetype": "text/x-python",
   "name": "python",
   "nbconvert_exporter": "python",
   "pygments_lexer": "ipython3",
   "version": "3.10.4"
  }
 },
 "nbformat": 4,
 "nbformat_minor": 5
}
